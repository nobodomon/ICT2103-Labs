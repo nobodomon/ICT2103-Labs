{
 "cells": [
  {
   "cell_type": "code",
   "execution_count": 12,
   "metadata": {},
   "outputs": [],
   "source": [
    "#Q1\n",
    "\n",
    "from sqlalchemy import Column, ForeignKey, Integer, String, Table, create_engine, select,insert,update, delete\n",
    "from sqlalchemy.ext.declarative import declarative_base\n",
    "from sqlalchemy.orm import relationship, sessionmaker\n",
    "\n",
    "Base = declarative_base()\n",
    "\n",
    "engine = create_engine('sqlite:///CLS2223T1.db', echo=False)\n",
    "Session = sessionmaker(bind=engine)  \n",
    "session = Session()\n",
    "\n",
    "TB2103 = Table(\n",
    "    'TB2103', Base.metadata,\n",
    "    Column('sid', Integer, primary_key=True),\n",
    "    Column('name', String(50)),\n",
    "    Column('grade', String(5)),\n",
    ")\n",
    "\n",
    "Base.metadata.create_all(engine)\n"
   ]
  },
  {
   "cell_type": "code",
   "execution_count": 13,
   "metadata": {},
   "outputs": [],
   "source": [
    "#Q2\n",
    "\n",
    "stmt = select([TB2103])\n",
    "result = session.execute(stmt)\n",
    "for row in result:\n",
    "    print(row)\n",
    "\n",
    "session.commit()\n",
    "session.close()"
   ]
  },
  {
   "cell_type": "code",
   "execution_count": 14,
   "metadata": {},
   "outputs": [
    {
     "name": "stdout",
     "output_type": "stream",
     "text": [
      "(2101313, 'Kenneth', 'NA')\n"
     ]
    }
   ],
   "source": [
    "#Q3\n",
    "\n",
    "stmt = insert(TB2103).values(sid=2101313, name='Kenneth', grade='NA')\n",
    "result = session.execute(stmt)\n",
    "stmt = select(TB2103)\n",
    "result = session.execute(stmt)\n",
    "for row in result:\n",
    "    print(row)\n",
    "\n",
    "session.commit()\n",
    "session.close()"
   ]
  },
  {
   "cell_type": "code",
   "execution_count": 15,
   "metadata": {},
   "outputs": [
    {
     "name": "stdout",
     "output_type": "stream",
     "text": [
      "(2002345, 'Sansa Stark', 'NA')\n",
      "(2003456, 'Jon Snow', 'NA')\n",
      "(2101313, 'Kenneth', 'NA')\n"
     ]
    }
   ],
   "source": [
    "#Q4\n",
    "\n",
    "stmt = insert(TB2103).values(sid=2002345, name='Sansa Stark', grade='NA')\n",
    "result = session.execute(stmt)\n",
    "\n",
    "session.commit()\n",
    "session.close()\n",
    "\n",
    "stmt = insert(TB2103).values(sid=2003456, name='Jon Snow', grade='NA')\n",
    "result = session.execute(stmt)\n",
    "\n",
    "session.commit()\n",
    "session.close()\n",
    "\n",
    "stmt = select(TB2103)\n",
    "result = session.execute(stmt)\n",
    "for row in result:\n",
    "    print(row)\n",
    "\n",
    "session.commit()\n",
    "session.close()"
   ]
  },
  {
   "cell_type": "code",
   "execution_count": 16,
   "metadata": {},
   "outputs": [
    {
     "name": "stdout",
     "output_type": "stream",
     "text": [
      "(2002345, 'Sansa Stark', 'NA')\n",
      "(2003456, 'Jon Snow', 'A-')\n",
      "(2101313, 'Kenneth', 'NA')\n"
     ]
    }
   ],
   "source": [
    "#Q5\n",
    "\n",
    "stmt = update(TB2103).where(TB2103.c.name == \"Jon Snow\").values(grade='A-')\n",
    "result = session.execute(stmt)\n",
    "stmt = select(TB2103)\n",
    "result = session.execute(stmt)\n",
    "for row in result:\n",
    "    print(row)\n",
    "\n",
    "session.commit()\n",
    "session.close()"
   ]
  },
  {
   "cell_type": "code",
   "execution_count": 17,
   "metadata": {},
   "outputs": [
    {
     "name": "stdout",
     "output_type": "stream",
     "text": [
      "(2002345, 'Sansa Stark', 'NA')\n",
      "(2003456, 'Jon Snow', 'A-')\n",
      "(2101313, 'Kenneth', 'A+')\n"
     ]
    }
   ],
   "source": [
    "#Q6\n",
    "\n",
    "stmt = update(TB2103).where(TB2103.c.sid == 2101313).values(grade='A+')\n",
    "result = session.execute(stmt)\n",
    "stmt = select(TB2103)\n",
    "result = session.execute(stmt)\n",
    "for row in result:\n",
    "    print(row)\n",
    "\n",
    "session.commit()\n",
    "session.close()\n"
   ]
  },
  {
   "cell_type": "code",
   "execution_count": 18,
   "metadata": {},
   "outputs": [
    {
     "name": "stdout",
     "output_type": "stream",
     "text": [
      "(2003456, 'Jon Snow', 'A-')\n",
      "(2101313, 'Kenneth', 'A+')\n"
     ]
    }
   ],
   "source": [
    "## Q7\n",
    "\n",
    "stmt = delete(TB2103).where(TB2103.c.name == \"Sansa Stark\")\n",
    "result = session.execute(stmt)\n",
    "stmt = select(TB2103)\n",
    "result = session.execute(stmt)\n",
    "for row in result:\n",
    "    print(row)\n",
    "\n",
    "session.commit()\n",
    "session.close()\n",
    "\n"
   ]
  },
  {
   "cell_type": "code",
   "execution_count": 19,
   "metadata": {},
   "outputs": [],
   "source": [
    "# Q8\n",
    "stmt = delete(TB2103)\n",
    "result = session.execute(stmt)\n",
    "stmt = select(TB2103)\n",
    "result = session.execute(stmt)\n",
    "for row in result:\n",
    "    print(row)\n",
    "\n",
    "session.commit()\n",
    "session.close()"
   ]
  }
 ],
 "metadata": {
  "kernelspec": {
   "display_name": "Python 3.8.8 ('base')",
   "language": "python",
   "name": "python3"
  },
  "language_info": {
   "codemirror_mode": {
    "name": "ipython",
    "version": 3
   },
   "file_extension": ".py",
   "mimetype": "text/x-python",
   "name": "python",
   "nbconvert_exporter": "python",
   "pygments_lexer": "ipython3",
   "version": "3.8.8"
  },
  "orig_nbformat": 4,
  "vscode": {
   "interpreter": {
    "hash": "1b7f9136c33228a3c840ad4dab331f73f7f8152c875c77e18e6ea8e34c52d43f"
   }
  }
 },
 "nbformat": 4,
 "nbformat_minor": 2
}

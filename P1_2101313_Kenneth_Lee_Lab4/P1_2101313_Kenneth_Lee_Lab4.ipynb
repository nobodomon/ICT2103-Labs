{
 "cells": [
  {
   "cell_type": "code",
   "execution_count": 21,
   "metadata": {},
   "outputs": [],
   "source": [
    "#Question 1\n",
    "\n",
    "import sqlite3\n",
    "import pandas as pd\n",
    "\n",
    "conn = sqlite3.connect('music2101313.sqlite')\n",
    "\n",
    "cur = conn.cursor()\n",
    "\n",
    "cur.execute('DROP TABLE IF EXISTS Tracks')\n",
    "\n",
    "cur.execute('CREATE TABLE Tracks (title TEXT, plays INTEGER)')\n",
    "\n",
    "conn.close()"
   ]
  },
  {
   "cell_type": "code",
   "execution_count": 22,
   "metadata": {},
   "outputs": [],
   "source": [
    "#Question 2\n",
    "\n",
    "conn = sqlite3.connect('music2101313.sqlite')\n",
    "\n",
    "cur = conn.cursor()\n",
    "\n",
    "cur.execute('INSERT INTO Tracks (title, plays) VALUES (?, ?)', ('Save Your Tears', 20))\n",
    "\n",
    "cur.execute('INSERT INTO Tracks (title, plays) VALUES (?, ?)', ('Levitating', 15))\n",
    "\n",
    "conn.commit()\n",
    "\n",
    "conn.close()"
   ]
  },
  {
   "cell_type": "code",
   "execution_count": 23,
   "metadata": {},
   "outputs": [
    {
     "name": "stdout",
     "output_type": "stream",
     "text": [
      "('Save Your Tears', 20)\n",
      "('Levitating', 15)\n"
     ]
    }
   ],
   "source": [
    "#Question 3\n",
    "\n",
    "conn = sqlite3.connect('music2101313.sqlite')\n",
    "\n",
    "cur = conn.cursor()\n",
    "\n",
    "for(row) in cur.execute('SELECT title, plays FROM Tracks'):\n",
    "    print(row)\n"
   ]
  },
  {
   "cell_type": "code",
   "execution_count": 24,
   "metadata": {},
   "outputs": [
    {
     "name": "stdout",
     "output_type": "stream",
     "text": [
      "('Save Your Tears', 20)\n"
     ]
    }
   ],
   "source": [
    "#Question 4\n",
    "\n",
    "row = cur.execute('SELECT title, plays FROM Tracks').fetchone()\n",
    "\n",
    "print(row)\n"
   ]
  },
  {
   "cell_type": "code",
   "execution_count": 25,
   "metadata": {},
   "outputs": [
    {
     "name": "stdout",
     "output_type": "stream",
     "text": [
      "[('Save Your Tears', 20), ('Levitating', 15)]\n"
     ]
    }
   ],
   "source": [
    "#Question 5\n",
    "\n",
    "rows = cur.execute('SELECT title, plays FROM Tracks').fetchall()\n",
    "\n",
    "print(rows)"
   ]
  },
  {
   "cell_type": "code",
   "execution_count": 26,
   "metadata": {},
   "outputs": [
    {
     "name": "stdout",
     "output_type": "stream",
     "text": [
      "             title  plays\n",
      "0  Save Your Tears      5\n",
      "1       Levitating     15\n"
     ]
    }
   ],
   "source": [
    "#Question 6\n",
    "\n",
    "cur.execute('UPDATE Tracks SET plays = 5 WHERE title = \"Save Your Tears\"')\n",
    "\n",
    "conn.commit()\n",
    "\n",
    "rows = cur.execute('SELECT title, plays FROM Tracks').fetchall()\n",
    "\n",
    "data = pd.DataFrame(rows, columns=['title', 'plays'])\n",
    "\n",
    "print(data)\n"
   ]
  },
  {
   "cell_type": "code",
   "execution_count": 27,
   "metadata": {},
   "outputs": [
    {
     "name": "stdout",
     "output_type": "stream",
     "text": [
      "        title  plays\n",
      "0  Levitating     15\n"
     ]
    }
   ],
   "source": [
    "#Question 7\n",
    "\n",
    "cur.execute(\"DELETE FROM Tracks WHERE plays = 5\")\n",
    "\n",
    "conn.commit()\n",
    "\n",
    "rows = cur.execute('SELECT title, plays FROM Tracks').fetchall()\n",
    "\n",
    "data = pd.DataFrame(rows, columns=['title', 'plays'])\n",
    "\n",
    "print(data)\n"
   ]
  },
  {
   "cell_type": "code",
   "execution_count": 28,
   "metadata": {},
   "outputs": [
    {
     "data": {
      "text/plain": [
       "<sqlite3.Cursor at 0x2bcb077cb20>"
      ]
     },
     "execution_count": 28,
     "metadata": {},
     "output_type": "execute_result"
    }
   ],
   "source": [
    "#Preperation for Question 8\n",
    "\n",
    "conn = sqlite3.connect('order.sqlite')\n",
    "\n",
    "cur = conn.cursor()\n",
    "\n",
    "cur.execute('DROP TABLE IF EXISTS Orders')\n",
    "\n",
    "cur.execute('DROP TABLE IF EXISTS Customers')\n",
    "\n",
    "cur.execute('CREATE TABLE Customers (customer_id INTEGER primary key, customer_name TEXT)')\n",
    "\n",
    "cur.execute('CREATE TABLE Orders (order_id TEXT primary key, customer_id INTEGER , amount DOUBLE, FOREIGN KEY(customer_id) REFERENCES Customers(customer_id))')\n"
   ]
  },
  {
   "cell_type": "code",
   "execution_count": 29,
   "metadata": {},
   "outputs": [
    {
     "name": "stdout",
     "output_type": "stream",
     "text": [
      "   customer_id customer_name\n",
      "0            1          Arya\n",
      "1            2           Jon\n",
      "2            3          Robb\n",
      "3            4   Kenneth Lee\n"
     ]
    }
   ],
   "source": [
    "#Question 8\n",
    "\n",
    "cur.execute('INSERT INTO Customers (customer_id, customer_name) VALUES (?, ?)', (1, 'Arya'))\n",
    "\n",
    "cur.execute('INSERT INTO Customers (customer_id, customer_name) VALUES (?, ?)', (2, 'Jon'))\n",
    "\n",
    "cur.execute('INSERT INTO Customers (customer_id, customer_name) VALUES (?, ?)', (3, 'Robb'))\n",
    "\n",
    "cur.execute('INSERT INTO Customers (customer_id, customer_name) VALUES (?, ?)', (4, 'Kenneth Lee'))\n",
    "\n",
    "conn.commit()\n",
    "\n",
    "rows = cur.execute('SELECT customer_id, customer_name FROM Customers').fetchall()\n",
    "\n",
    "data = pd.DataFrame(rows, columns=['customer_id', 'customer_name'])\n",
    "\n",
    "print(data)"
   ]
  },
  {
   "cell_type": "code",
   "execution_count": 30,
   "metadata": {},
   "outputs": [
    {
     "name": "stdout",
     "output_type": "stream",
     "text": [
      "  order_id  customer_id  amount\n",
      "0       O1            1   19.99\n",
      "1       O2            2   66.66\n",
      "2       O3            3   17.56\n",
      "3       O4            4   88.88\n"
     ]
    }
   ],
   "source": [
    "#Question 9\n",
    "\n",
    "cur.execute('INSERT INTO Orders (order_id, customer_id, amount) VALUES (?, ?, ?)', ('O1', 1, 19.99))\n",
    "\n",
    "cur.execute('INSERT INTO Orders (order_id, customer_id, amount) VALUES (?, ?, ?)', ('O2', 2, 66.66))\n",
    "\n",
    "cur.execute('INSERT INTO Orders (order_id, customer_id, amount) VALUES (?, ?, ?)', ('O3', 3, 17.56))\n",
    "\n",
    "cur.execute('INSERT INTO Orders (order_id, customer_id, amount) VALUES (?, ?, ?)', ('O4', 4, 88.88))\n",
    "\n",
    "conn.commit()\n",
    "\n",
    "rows = cur.execute('SELECT order_id, customer_id, amount FROM Orders').fetchall()\n",
    "\n",
    "\n",
    "data = pd.DataFrame(rows, columns=['order_id', 'customer_id', 'amount'])\n",
    "\n",
    "print(data)"
   ]
  },
  {
   "cell_type": "code",
   "execution_count": 31,
   "metadata": {},
   "outputs": [
    {
     "name": "stdout",
     "output_type": "stream",
     "text": [
      "  order_id  customer_id  amount  customer_id customer_name\n",
      "0       O1            1   19.99            1          Arya\n",
      "1       O2            2   66.66            2           Jon\n",
      "2       O3            3   17.56            3          Robb\n",
      "3       O4            4   88.88            4   Kenneth Lee\n"
     ]
    }
   ],
   "source": [
    "#Question 10\n",
    "\n",
    "rows = cur.execute('SELECT * FROM Orders INNER JOIN Customers ON Orders.customer_id = Customers.customer_id').fetchall()\n",
    "\n",
    "data = pd.DataFrame(rows, columns=['order_id', 'customer_id', 'amount', 'customer_id', 'customer_name'])\n",
    "\n",
    "print(data)\n"
   ]
  },
  {
   "cell_type": "code",
   "execution_count": 32,
   "metadata": {},
   "outputs": [
    {
     "name": "stdout",
     "output_type": "stream",
     "text": [
      "  customer_name order_id\n",
      "0          Arya       O1\n",
      "1           Jon       O2\n",
      "2          Robb       O3\n",
      "3   Kenneth Lee       O4\n"
     ]
    }
   ],
   "source": [
    "#Question 11\n",
    "\n",
    "rows = cur.execute('SELECT customer_name, order_id FROM Orders INNER JOIN Customers ON Orders.customer_id = Customers.customer_id WHERE amount > 15').fetchall()\n",
    "\n",
    "data = pd.DataFrame(rows, columns=['customer_name', 'order_id'])\n",
    "\n",
    "print(data)\n",
    "\n",
    "conn.close()"
   ]
  }
 ],
 "metadata": {
  "kernelspec": {
   "display_name": "Python 3.8.8 ('base')",
   "language": "python",
   "name": "python3"
  },
  "language_info": {
   "codemirror_mode": {
    "name": "ipython",
    "version": 3
   },
   "file_extension": ".py",
   "mimetype": "text/x-python",
   "name": "python",
   "nbconvert_exporter": "python",
   "pygments_lexer": "ipython3",
   "version": "3.8.8"
  },
  "orig_nbformat": 4,
  "vscode": {
   "interpreter": {
    "hash": "ad2bdc8ecc057115af97d19610ffacc2b4e99fae6737bb82f5d7fb13d2f2c186"
   }
  }
 },
 "nbformat": 4,
 "nbformat_minor": 2
}
